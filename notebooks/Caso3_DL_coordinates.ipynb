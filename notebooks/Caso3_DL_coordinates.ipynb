{
  "nbformat": 4,
  "nbformat_minor": 5,
  "metadata": {
    "kernelspec": {
      "display_name": "Python 3.7.8 64-bit ('solaris': conda)",
      "language": "python",
      "name": "python378jvsc74a57bd0846fc0da2063d51e888b54ea48ec89969bbeabb9e67eeda438e71ccf6ec5bc96"
    },
    "language_info": {
      "codemirror_mode": {
        "name": "ipython",
        "version": 3
      },
      "file_extension": ".py",
      "mimetype": "text/x-python",
      "name": "python",
      "nbconvert_exporter": "python",
      "pygments_lexer": "ipython3",
      "version": "3.7.8"
    },
    "colab": {
      "name": "DL_coordinates.ipynb",
      "provenance": []
    },
    "accelerator": "GPU"
  },
  "cells": [
    {
      "cell_type": "code",
      "metadata": {
        "colab": {
          "base_uri": "https://localhost:8080/"
        },
        "id": "It_Q5HEhicJI",
        "outputId": "2028654e-3341-45a1-a249-211f2b4f7d84"
      },
      "source": [
        "from google.colab import drive\n",
        "drive.mount('/content/drive')"
      ],
      "id": "It_Q5HEhicJI",
      "execution_count": 1,
      "outputs": [
        {
          "output_type": "stream",
          "text": [
            "Mounted at /content/drive\n"
          ],
          "name": "stdout"
        }
      ]
    },
    {
      "cell_type": "code",
      "metadata": {
        "colab": {
          "base_uri": "https://localhost:8080/"
        },
        "id": "operating-curve",
        "outputId": "762aabcb-0741-404c-83ef-0e91de3175f9"
      },
      "source": [
        "import pandas as pd\n",
        "\n",
        "import time\n",
        "import copy\n",
        "!pip install missingno\n",
        "import missingno as msno\n",
        "import seaborn as sns\n",
        "import matplotlib.pyplot as plt\n",
        "from sklearn.model_selection import train_test_split\n",
        "from sklearn.metrics import accuracy_score,roc_auc_score,recall_score, precision_score,confusion_matrix\n",
        "from sklearn.model_selection import GridSearchCV\n",
        "from sklearn.svm import SVC\n",
        "from sklearn.model_selection import cross_val_score, cross_val_predict, StratifiedKFold, GridSearchCV"
      ],
      "id": "operating-curve",
      "execution_count": 2,
      "outputs": [
        {
          "output_type": "stream",
          "text": [
            "Requirement already satisfied: missingno in /usr/local/lib/python3.7/dist-packages (0.4.2)\n",
            "Requirement already satisfied: seaborn in /usr/local/lib/python3.7/dist-packages (from missingno) (0.11.1)\n",
            "Requirement already satisfied: numpy in /usr/local/lib/python3.7/dist-packages (from missingno) (1.19.5)\n",
            "Requirement already satisfied: matplotlib in /usr/local/lib/python3.7/dist-packages (from missingno) (3.2.2)\n",
            "Requirement already satisfied: scipy in /usr/local/lib/python3.7/dist-packages (from missingno) (1.4.1)\n",
            "Requirement already satisfied: pandas>=0.23 in /usr/local/lib/python3.7/dist-packages (from seaborn->missingno) (1.1.5)\n",
            "Requirement already satisfied: pyparsing!=2.0.4,!=2.1.2,!=2.1.6,>=2.0.1 in /usr/local/lib/python3.7/dist-packages (from matplotlib->missingno) (2.4.7)\n",
            "Requirement already satisfied: python-dateutil>=2.1 in /usr/local/lib/python3.7/dist-packages (from matplotlib->missingno) (2.8.1)\n",
            "Requirement already satisfied: cycler>=0.10 in /usr/local/lib/python3.7/dist-packages (from matplotlib->missingno) (0.10.0)\n",
            "Requirement already satisfied: kiwisolver>=1.0.1 in /usr/local/lib/python3.7/dist-packages (from matplotlib->missingno) (1.3.1)\n",
            "Requirement already satisfied: pytz>=2017.2 in /usr/local/lib/python3.7/dist-packages (from pandas>=0.23->seaborn->missingno) (2018.9)\n",
            "Requirement already satisfied: six>=1.5 in /usr/local/lib/python3.7/dist-packages (from python-dateutil>=2.1->matplotlib->missingno) (1.15.0)\n"
          ],
          "name": "stdout"
        }
      ]
    },
    {
      "cell_type": "code",
      "metadata": {
        "id": "complimentary-prime"
      },
      "source": [
        "data_path = \"/content/drive/MyDrive/Colab Notebooks/AI India/data/Sample_points.csv\"\n",
        "data = pd.read_csv(data_path)\n",
        "df = data.copy()"
      ],
      "id": "complimentary-prime",
      "execution_count": 3,
      "outputs": []
    },
    {
      "cell_type": "code",
      "metadata": {
        "id": "still-wheat"
      },
      "source": [
        "df.drop(columns=\"OBJECTID\", axis = 1, inplace= True)\n",
        "df.drop(columns=\"ORIG_FID\", axis = 1, inplace= True)\n",
        "df.drop(columns=\"Id\", axis = 1, inplace= True)\n",
        "\n",
        "\n",
        "\n",
        "df.loc[df['Class_name']=='Agriculture', 'Class_name'] = 1\n",
        "df.loc[df['Class_name']=='Barren_land', 'Class_name'] = 2\n",
        "df.loc[df['Class_name']=='Builtup', 'Class_name'] = 3\n",
        "df.loc[df['Class_name']=='Danse_Forest', 'Class_name'] = 4\n",
        "df.loc[df['Class_name']=='Fallow_land', 'Class_name'] = 5\n",
        "df.loc[df['Class_name']=='Sparse_forest', 'Class_name'] = 6\n",
        "df.loc[df['Class_name']=='Waterbody', 'Class_name'] = 7"
      ],
      "id": "still-wheat",
      "execution_count": 4,
      "outputs": []
    },
    {
      "cell_type": "code",
      "metadata": {
        "colab": {
          "base_uri": "https://localhost:8080/",
          "height": 424
        },
        "id": "variable-whole",
        "outputId": "019bd0b4-642e-41db-ae22-76796ab2c7ed"
      },
      "source": [
        "df"
      ],
      "id": "variable-whole",
      "execution_count": 5,
      "outputs": [
        {
          "output_type": "execute_result",
          "data": {
            "text/html": [
              "<div>\n",
              "<style scoped>\n",
              "    .dataframe tbody tr th:only-of-type {\n",
              "        vertical-align: middle;\n",
              "    }\n",
              "\n",
              "    .dataframe tbody tr th {\n",
              "        vertical-align: top;\n",
              "    }\n",
              "\n",
              "    .dataframe thead th {\n",
              "        text-align: right;\n",
              "    }\n",
              "</style>\n",
              "<table border=\"1\" class=\"dataframe\">\n",
              "  <thead>\n",
              "    <tr style=\"text-align: right;\">\n",
              "      <th></th>\n",
              "      <th>Class_name</th>\n",
              "      <th>POINT_X</th>\n",
              "      <th>POINT_Y</th>\n",
              "    </tr>\n",
              "  </thead>\n",
              "  <tbody>\n",
              "    <tr>\n",
              "      <th>0</th>\n",
              "      <td>1</td>\n",
              "      <td>599348.6366</td>\n",
              "      <td>2207930.196</td>\n",
              "    </tr>\n",
              "    <tr>\n",
              "      <th>1</th>\n",
              "      <td>1</td>\n",
              "      <td>599328.2133</td>\n",
              "      <td>2208075.224</td>\n",
              "    </tr>\n",
              "    <tr>\n",
              "      <th>2</th>\n",
              "      <td>1</td>\n",
              "      <td>598949.2685</td>\n",
              "      <td>2208382.371</td>\n",
              "    </tr>\n",
              "    <tr>\n",
              "      <th>3</th>\n",
              "      <td>1</td>\n",
              "      <td>597708.0247</td>\n",
              "      <td>2209058.754</td>\n",
              "    </tr>\n",
              "    <tr>\n",
              "      <th>4</th>\n",
              "      <td>1</td>\n",
              "      <td>597431.0999</td>\n",
              "      <td>2208983.332</td>\n",
              "    </tr>\n",
              "    <tr>\n",
              "      <th>...</th>\n",
              "      <td>...</td>\n",
              "      <td>...</td>\n",
              "      <td>...</td>\n",
              "    </tr>\n",
              "    <tr>\n",
              "      <th>2397</th>\n",
              "      <td>4</td>\n",
              "      <td>903719.5296</td>\n",
              "      <td>1653655.582</td>\n",
              "    </tr>\n",
              "    <tr>\n",
              "      <th>2398</th>\n",
              "      <td>4</td>\n",
              "      <td>904177.9597</td>\n",
              "      <td>1651411.815</td>\n",
              "    </tr>\n",
              "    <tr>\n",
              "      <th>2399</th>\n",
              "      <td>4</td>\n",
              "      <td>904183.6167</td>\n",
              "      <td>1650335.302</td>\n",
              "    </tr>\n",
              "    <tr>\n",
              "      <th>2400</th>\n",
              "      <td>4</td>\n",
              "      <td>904290.3335</td>\n",
              "      <td>1649776.499</td>\n",
              "    </tr>\n",
              "    <tr>\n",
              "      <th>2401</th>\n",
              "      <td>4</td>\n",
              "      <td>902870.3996</td>\n",
              "      <td>1648742.741</td>\n",
              "    </tr>\n",
              "  </tbody>\n",
              "</table>\n",
              "<p>2402 rows × 3 columns</p>\n",
              "</div>"
            ],
            "text/plain": [
              "     Class_name      POINT_X      POINT_Y\n",
              "0             1  599348.6366  2207930.196\n",
              "1             1  599328.2133  2208075.224\n",
              "2             1  598949.2685  2208382.371\n",
              "3             1  597708.0247  2209058.754\n",
              "4             1  597431.0999  2208983.332\n",
              "...         ...          ...          ...\n",
              "2397          4  903719.5296  1653655.582\n",
              "2398          4  904177.9597  1651411.815\n",
              "2399          4  904183.6167  1650335.302\n",
              "2400          4  904290.3335  1649776.499\n",
              "2401          4  902870.3996  1648742.741\n",
              "\n",
              "[2402 rows x 3 columns]"
            ]
          },
          "metadata": {
            "tags": []
          },
          "execution_count": 5
        }
      ]
    },
    {
      "cell_type": "code",
      "metadata": {
        "colab": {
          "base_uri": "https://localhost:8080/"
        },
        "id": "victorian-james",
        "outputId": "4fc9b2eb-b316-4f5e-d085-25ce594d6d0f"
      },
      "source": [
        "X = df.iloc[:,1:]\n",
        "y = df.iloc[:,0]\n",
        "print(df.shape)\n",
        "print(X.shape)\n",
        "print(y.shape)"
      ],
      "id": "victorian-james",
      "execution_count": 6,
      "outputs": [
        {
          "output_type": "stream",
          "text": [
            "(2402, 3)\n",
            "(2402, 2)\n",
            "(2402,)\n"
          ],
          "name": "stdout"
        }
      ]
    },
    {
      "cell_type": "code",
      "metadata": {
        "id": "1bDBLVyUyPT2"
      },
      "source": [
        "import matplotlib.pyplot as plt\n",
        "data = y[1:].to_numpy() # neglect first pixel...\n",
        "data = data.reshape((49,49))\n",
        "\n",
        "data = data.astype(float)"
      ],
      "id": "1bDBLVyUyPT2",
      "execution_count": 28,
      "outputs": []
    },
    {
      "cell_type": "code",
      "metadata": {
        "colab": {
          "base_uri": "https://localhost:8080/"
        },
        "id": "-zT4KJ000a7Q",
        "outputId": "3c2164e0-3639-4ca8-d6db-85f3055437b8"
      },
      "source": [
        "data.dtype"
      ],
      "id": "-zT4KJ000a7Q",
      "execution_count": 29,
      "outputs": [
        {
          "output_type": "execute_result",
          "data": {
            "text/plain": [
              "dtype('float64')"
            ]
          },
          "metadata": {
            "tags": []
          },
          "execution_count": 29
        }
      ]
    },
    {
      "cell_type": "code",
      "metadata": {
        "colab": {
          "base_uri": "https://localhost:8080/",
          "height": 267
        },
        "id": "FUZNxUac0LGA",
        "outputId": "c2cb4730-718b-473f-c0d0-0d341f102c88"
      },
      "source": [
        "plt.imshow(data)\n",
        "plt.show()"
      ],
      "id": "FUZNxUac0LGA",
      "execution_count": 30,
      "outputs": [
        {
          "output_type": "display_data",
          "data": {
            "image/png": "[encoded data removed]",
            "text/plain": [
              "<Figure size 432x288 with 1 Axes>"
            ]
          },
          "metadata": {
            "tags": [],
            "needs_background": "light"
          }
        }
      ]
    },
    {
      "cell_type": "code",
      "metadata": {
        "colab": {
          "base_uri": "https://localhost:8080/",
          "height": 300
        },
        "id": "powered-course",
        "outputId": "a7187785-aeb4-4ddb-a67f-a1c7bdcd1438"
      },
      "source": [
        "df.groupby(\"Class_name\").count()"
      ],
      "id": "powered-course",
      "execution_count": 7,
      "outputs": [
        {
          "output_type": "execute_result",
          "data": {
            "text/html": [
              "<div>\n",
              "<style scoped>\n",
              "    .dataframe tbody tr th:only-of-type {\n",
              "        vertical-align: middle;\n",
              "    }\n",
              "\n",
              "    .dataframe tbody tr th {\n",
              "        vertical-align: top;\n",
              "    }\n",
              "\n",
              "    .dataframe thead th {\n",
              "        text-align: right;\n",
              "    }\n",
              "</style>\n",
              "<table border=\"1\" class=\"dataframe\">\n",
              "  <thead>\n",
              "    <tr style=\"text-align: right;\">\n",
              "      <th></th>\n",
              "      <th>POINT_X</th>\n",
              "      <th>POINT_Y</th>\n",
              "    </tr>\n",
              "    <tr>\n",
              "      <th>Class_name</th>\n",
              "      <th></th>\n",
              "      <th></th>\n",
              "    </tr>\n",
              "  </thead>\n",
              "  <tbody>\n",
              "    <tr>\n",
              "      <th>1</th>\n",
              "      <td>466</td>\n",
              "      <td>466</td>\n",
              "    </tr>\n",
              "    <tr>\n",
              "      <th>2</th>\n",
              "      <td>254</td>\n",
              "      <td>254</td>\n",
              "    </tr>\n",
              "    <tr>\n",
              "      <th>3</th>\n",
              "      <td>423</td>\n",
              "      <td>423</td>\n",
              "    </tr>\n",
              "    <tr>\n",
              "      <th>4</th>\n",
              "      <td>415</td>\n",
              "      <td>415</td>\n",
              "    </tr>\n",
              "    <tr>\n",
              "      <th>5</th>\n",
              "      <td>210</td>\n",
              "      <td>210</td>\n",
              "    </tr>\n",
              "    <tr>\n",
              "      <th>6</th>\n",
              "      <td>331</td>\n",
              "      <td>331</td>\n",
              "    </tr>\n",
              "    <tr>\n",
              "      <th>7</th>\n",
              "      <td>303</td>\n",
              "      <td>303</td>\n",
              "    </tr>\n",
              "  </tbody>\n",
              "</table>\n",
              "</div>"
            ],
            "text/plain": [
              "            POINT_X  POINT_Y\n",
              "Class_name                  \n",
              "1               466      466\n",
              "2               254      254\n",
              "3               423      423\n",
              "4               415      415\n",
              "5               210      210\n",
              "6               331      331\n",
              "7               303      303"
            ]
          },
          "metadata": {
            "tags": []
          },
          "execution_count": 7
        }
      ]
    },
    {
      "cell_type": "code",
      "metadata": {
        "id": "specialized-pharmacology"
      },
      "source": [
        "y=y.astype('int') \n",
        "\n",
        "X_train, X_test, y_train, y_test = train_test_split(X, y, test_size=0.33, random_state=42)"
      ],
      "id": "specialized-pharmacology",
      "execution_count": null,
      "outputs": []
    },
    {
      "cell_type": "code",
      "metadata": {
        "colab": {
          "base_uri": "https://localhost:8080/"
        },
        "id": "y02pB3EPNJb1",
        "outputId": "81dd5128-a9b6-41e1-96cf-64f004129621"
      },
      "source": [
        "from tensorflow.keras.utils import to_categorical\n",
        "\n",
        "label_train = to_categorical(y_train)\n",
        "label_test = to_categorical(y_test)\n",
        "label_test.shape"
      ],
      "id": "y02pB3EPNJb1",
      "execution_count": null,
      "outputs": [
        {
          "output_type": "execute_result",
          "data": {
            "text/plain": [
              "(793, 8)"
            ]
          },
          "metadata": {
            "tags": []
          },
          "execution_count": 44
        }
      ]
    },
    {
      "cell_type": "markdown",
      "metadata": {
        "id": "b0_hhqVTIonl"
      },
      "source": [
        "# DL\n"
      ],
      "id": "b0_hhqVTIonl"
    },
    {
      "cell_type": "code",
      "metadata": {
        "colab": {
          "base_uri": "https://localhost:8080/"
        },
        "id": "T0ODhZcpQYab",
        "outputId": "a55bcbd5-995c-45e4-c22f-301254d5722e"
      },
      "source": [
        "from tensorflow.python.keras.layers import Dense\n",
        "from tensorflow.python.keras import Sequential\n",
        "import keras.models\n",
        "from keras.layers import Activation\n",
        "import tensorflow as tf\n",
        "\n",
        "import pandas as pd\n",
        "import torch as t\n",
        "import torch.nn as nn\n",
        "\n",
        "import matplotlib.pyplot as plt \n",
        "\n",
        "!nvidia-smi"
      ],
      "id": "T0ODhZcpQYab",
      "execution_count": null,
      "outputs": [
        {
          "output_type": "stream",
          "text": [
            "Fri Jul  2 08:40:05 2021       \n",
            "+-----------------------------------------------------------------------------+\n",
            "| NVIDIA-SMI 465.27       Driver Version: 460.32.03    CUDA Version: 11.2     |\n",
            "|-------------------------------+----------------------+----------------------+\n",
            "| GPU  Name        Persistence-M| Bus-Id        Disp.A | Volatile Uncorr. ECC |\n",
            "| Fan  Temp  Perf  Pwr:Usage/Cap|         Memory-Usage | GPU-Util  Compute M. |\n",
            "|                               |                      |               MIG M. |\n",
            "|===============================+======================+======================|\n",
            "|   0  Tesla T4            Off  | 00000000:00:04.0 Off |                    0 |\n",
            "| N/A   73C    P0    33W /  70W |    446MiB / 15109MiB |      0%      Default |\n",
            "|                               |                      |                  N/A |\n",
            "+-------------------------------+----------------------+----------------------+\n",
            "                                                                               \n",
            "+-----------------------------------------------------------------------------+\n",
            "| Processes:                                                                  |\n",
            "|  GPU   GI   CI        PID   Type   Process name                  GPU Memory |\n",
            "|        ID   ID                                                   Usage      |\n",
            "|=============================================================================|\n",
            "+-----------------------------------------------------------------------------+\n"
          ],
          "name": "stdout"
        }
      ]
    },
    {
      "cell_type": "code",
      "metadata": {
        "colab": {
          "base_uri": "https://localhost:8080/"
        },
        "id": "KLLBit4gIoL5",
        "outputId": "77a10a1d-626c-458a-ce7a-aef8febbf8e0"
      },
      "source": [
        "model = Sequential()\n",
        "model.add(Dense(1000, input_dim = X_train.shape[1], activation=\"relu\"))\n",
        "model.add(Dense(1000, activation = 'relu'))\n",
        "model.add(Dense(8, activation = 'sigmoid'))\n",
        "\n",
        "# Compile the model\n",
        "model.compile(loss = \"categorical_crossentropy\", optimizer = \"adam\", metrics=['accuracy'])\n",
        "\n",
        "model.summary()\n",
        "# Fit the model\n"
      ],
      "id": "KLLBit4gIoL5",
      "execution_count": null,
      "outputs": [
        {
          "output_type": "stream",
          "text": [
            "Model: \"sequential_12\"\n",
            "_________________________________________________________________\n",
            "Layer (type)                 Output Shape              Param #   \n",
            "=================================================================\n",
            "dense_34 (Dense)             (None, 1000)              3000      \n",
            "_________________________________________________________________\n",
            "dense_35 (Dense)             (None, 1000)              1001000   \n",
            "_________________________________________________________________\n",
            "dense_36 (Dense)             (None, 8)                 8008      \n",
            "=================================================================\n",
            "Total params: 1,012,008\n",
            "Trainable params: 1,012,008\n",
            "Non-trainable params: 0\n",
            "_________________________________________________________________\n"
          ],
          "name": "stdout"
        }
      ]
    },
    {
      "cell_type": "code",
      "metadata": {
        "colab": {
          "base_uri": "https://localhost:8080/"
        },
        "id": "Hc9f3EC8RESP",
        "outputId": "feb19e29-c9e7-4b4f-edfe-7e2a32073050"
      },
      "source": [
        "model.fit(X_train,label_train, epochs=15, batch_size=10,  verbose=2)"
      ],
      "id": "Hc9f3EC8RESP",
      "execution_count": null,
      "outputs": [
        {
          "output_type": "stream",
          "text": [
            "Epoch 1/15\n",
            "161/161 - 1s - loss: 60545.2539 - accuracy: 0.1840\n",
            "Epoch 2/15\n",
            "161/161 - 0s - loss: 6868.4102 - accuracy: 0.2119\n",
            "Epoch 3/15\n",
            "161/161 - 0s - loss: 3769.9233 - accuracy: 0.2287\n",
            "Epoch 4/15\n",
            "161/161 - 0s - loss: 1438.9744 - accuracy: 0.2256\n",
            "Epoch 5/15\n",
            "161/161 - 0s - loss: 147.7114 - accuracy: 0.1734\n",
            "Epoch 6/15\n",
            "161/161 - 0s - loss: 2.0239 - accuracy: 0.1715\n",
            "Epoch 7/15\n",
            "161/161 - 0s - loss: 2.0032 - accuracy: 0.1871\n",
            "Epoch 8/15\n",
            "161/161 - 0s - loss: 1.9885 - accuracy: 0.1871\n",
            "Epoch 9/15\n",
            "161/161 - 0s - loss: 1.9770 - accuracy: 0.1871\n",
            "Epoch 10/15\n",
            "161/161 - 0s - loss: 1.9679 - accuracy: 0.1871\n",
            "Epoch 11/15\n",
            "161/161 - 0s - loss: 1.9605 - accuracy: 0.1871\n",
            "Epoch 12/15\n",
            "161/161 - 0s - loss: 1.9544 - accuracy: 0.1871\n",
            "Epoch 13/15\n",
            "161/161 - 0s - loss: 1.9493 - accuracy: 0.1871\n",
            "Epoch 14/15\n",
            "161/161 - 0s - loss: 1.9452 - accuracy: 0.1871\n",
            "Epoch 15/15\n",
            "161/161 - 0s - loss: 1.9417 - accuracy: 0.1871\n"
          ],
          "name": "stdout"
        },
        {
          "output_type": "execute_result",
          "data": {
            "text/plain": [
              "<tensorflow.python.keras.callbacks.History at 0x7f80fe34ae90>"
            ]
          },
          "metadata": {
            "tags": []
          },
          "execution_count": 50
        }
      ]
    },
    {
      "cell_type": "code",
      "metadata": {
        "id": "bx9-ZrYjZIwB"
      },
      "source": [
        "\n",
        "from tensorflow.keras.models import Sequential\n",
        "from tensorflow.keras.layers  import Conv1D, Flatten, Dense, Dropout \n",
        "from tensorflow.keras.optimizers import Adam\n",
        "import tensorflow as tf\n",
        "import numpy as np"
      ],
      "id": "bx9-ZrYjZIwB",
      "execution_count": null,
      "outputs": []
    },
    {
      "cell_type": "code",
      "metadata": {
        "id": "bgYaXSyLZVrg"
      },
      "source": [
        "output = label_train.shape[1]\n",
        "feat_cnn = np.expand_dims(X_train, axis=2)\n",
        "sequence_size = X_train.shape[1]\n",
        "n_features=1\n",
        "validation_split =0.2"
      ],
      "id": "bgYaXSyLZVrg",
      "execution_count": null,
      "outputs": []
    },
    {
      "cell_type": "code",
      "metadata": {
        "colab": {
          "base_uri": "https://localhost:8080/"
        },
        "id": "OWKN4wlDZhsj",
        "outputId": "d6888ad2-4d3c-4526-f006-172da77ddcba"
      },
      "source": [
        "model = Sequential([\n",
        "Conv1D(\n",
        "          filters=1,\n",
        "          kernel_size=4,\n",
        "          strides=1,\n",
        "          input_shape=(sequence_size, 1),\n",
        "          padding=\"same\",\n",
        "          activation=\"relu\"\n",
        "      ),\n",
        "      Flatten(),\n",
        "      Dropout(0.5),\n",
        "      Dense(\n",
        "          output,\n",
        "          activation=\"sigmoid\",\n",
        "          name=\"output\",\n",
        "      )\n",
        "      ])\n",
        "optimizer = Adam(lr=0.001)\n",
        "      # Compiling the model\n",
        "model.compile(\n",
        "          optimizer=optimizer, loss=\"binary_crossentropy\", metrics=[\"accuracy\"]\n",
        "      )\n",
        "model.summary()\n",
        "\n",
        "\n",
        "  #model.fit(training_data['inputs'],training_data['targets'], epochs = 100,validation_split=validation_split, verbose=2)\n",
        "model.fit(feat_cnn, label_train,  epochs=100, validation_split=validation_split, verbose=2)"
      ],
      "id": "OWKN4wlDZhsj",
      "execution_count": null,
      "outputs": [
        {
          "output_type": "stream",
          "text": [
            "/usr/local/lib/python3.7/dist-packages/tensorflow/python/keras/optimizer_v2/optimizer_v2.py:375: UserWarning: The `lr` argument is deprecated, use `learning_rate` instead.\n",
            "  \"The `lr` argument is deprecated, use `learning_rate` instead.\")\n"
          ],
          "name": "stderr"
        },
        {
          "output_type": "stream",
          "text": [
            "Model: \"sequential_13\"\n",
            "_________________________________________________________________\n",
            "Layer (type)                 Output Shape              Param #   \n",
            "=================================================================\n",
            "conv1d (Conv1D)              (None, 2, 1)              5         \n",
            "_________________________________________________________________\n",
            "flatten (Flatten)            (None, 2)                 0         \n",
            "_________________________________________________________________\n",
            "dropout (Dropout)            (None, 2)                 0         \n",
            "_________________________________________________________________\n",
            "output (Dense)               (None, 8)                 24        \n",
            "=================================================================\n",
            "Total params: 29\n",
            "Trainable params: 29\n",
            "Non-trainable params: 0\n",
            "_________________________________________________________________\n",
            "Epoch 1/100\n",
            "41/41 - 28s - loss: 66.3322 - accuracy: 0.1826 - val_loss: 0.6783 - val_accuracy: 0.1925\n",
            "Epoch 2/100\n",
            "41/41 - 0s - loss: 0.6714 - accuracy: 0.1709 - val_loss: 0.6640 - val_accuracy: 0.1925\n",
            "Epoch 3/100\n",
            "41/41 - 0s - loss: 0.6574 - accuracy: 0.1709 - val_loss: 0.6502 - val_accuracy: 0.1925\n",
            "Epoch 4/100\n",
            "41/41 - 0s - loss: 0.6439 - accuracy: 0.1733 - val_loss: 0.6371 - val_accuracy: 0.1957\n",
            "Epoch 5/100\n",
            "41/41 - 0s - loss: 0.6310 - accuracy: 0.1756 - val_loss: 0.6245 - val_accuracy: 0.1957\n",
            "Epoch 6/100\n",
            "41/41 - 0s - loss: 0.6187 - accuracy: 0.1756 - val_loss: 0.6124 - val_accuracy: 0.1957\n",
            "Epoch 7/100\n",
            "41/41 - 0s - loss: 0.6068 - accuracy: 0.1756 - val_loss: 0.6008 - val_accuracy: 0.1957\n",
            "Epoch 8/100\n",
            "41/41 - 0s - loss: 0.5955 - accuracy: 0.1577 - val_loss: 0.5897 - val_accuracy: 0.1957\n",
            "Epoch 9/100\n",
            "41/41 - 0s - loss: 0.5846 - accuracy: 0.1756 - val_loss: 0.5791 - val_accuracy: 0.1957\n",
            "Epoch 10/100\n",
            "41/41 - 0s - loss: 0.5742 - accuracy: 0.1756 - val_loss: 0.5689 - val_accuracy: 0.1957\n",
            "Epoch 11/100\n",
            "41/41 - 0s - loss: 0.5643 - accuracy: 0.1756 - val_loss: 0.5593 - val_accuracy: 0.1957\n",
            "Epoch 12/100\n",
            "41/41 - 0s - loss: 0.5548 - accuracy: 0.1655 - val_loss: 0.5500 - val_accuracy: 0.1957\n",
            "Epoch 13/100\n",
            "41/41 - 0s - loss: 0.5458 - accuracy: 0.1725 - val_loss: 0.5412 - val_accuracy: 0.1553\n",
            "Epoch 14/100\n",
            "41/41 - 0s - loss: 0.5371 - accuracy: 0.1950 - val_loss: 0.5327 - val_accuracy: 0.1553\n",
            "Epoch 15/100\n",
            "41/41 - 0s - loss: 0.5288 - accuracy: 0.1950 - val_loss: 0.5246 - val_accuracy: 0.1553\n",
            "Epoch 16/100\n",
            "41/41 - 0s - loss: 0.5209 - accuracy: 0.1950 - val_loss: 0.5169 - val_accuracy: 0.1553\n",
            "Epoch 17/100\n",
            "41/41 - 0s - loss: 0.5134 - accuracy: 0.1950 - val_loss: 0.5096 - val_accuracy: 0.1553\n",
            "Epoch 18/100\n",
            "41/41 - 0s - loss: 0.5062 - accuracy: 0.1950 - val_loss: 0.5026 - val_accuracy: 0.1553\n",
            "Epoch 19/100\n",
            "41/41 - 0s - loss: 0.4993 - accuracy: 0.1950 - val_loss: 0.4959 - val_accuracy: 0.1553\n",
            "Epoch 20/100\n",
            "41/41 - 0s - loss: 0.4928 - accuracy: 0.1950 - val_loss: 0.4895 - val_accuracy: 0.1553\n",
            "Epoch 21/100\n",
            "41/41 - 0s - loss: 0.4865 - accuracy: 0.1950 - val_loss: 0.4834 - val_accuracy: 0.1553\n",
            "Epoch 22/100\n",
            "41/41 - 0s - loss: 0.4806 - accuracy: 0.1950 - val_loss: 0.4776 - val_accuracy: 0.1553\n",
            "Epoch 23/100\n",
            "41/41 - 0s - loss: 0.4749 - accuracy: 0.1950 - val_loss: 0.4721 - val_accuracy: 0.1553\n",
            "Epoch 24/100\n",
            "41/41 - 0s - loss: 0.4695 - accuracy: 0.1950 - val_loss: 0.4668 - val_accuracy: 0.1553\n",
            "Epoch 25/100\n",
            "41/41 - 0s - loss: 0.4643 - accuracy: 0.1950 - val_loss: 0.4618 - val_accuracy: 0.1553\n",
            "Epoch 26/100\n",
            "41/41 - 0s - loss: 0.4594 - accuracy: 0.1950 - val_loss: 0.4570 - val_accuracy: 0.1553\n",
            "Epoch 27/100\n",
            "41/41 - 0s - loss: 0.4547 - accuracy: 0.1950 - val_loss: 0.4524 - val_accuracy: 0.1553\n",
            "Epoch 28/100\n",
            "41/41 - 0s - loss: 0.4503 - accuracy: 0.1950 - val_loss: 0.4481 - val_accuracy: 0.1553\n",
            "Epoch 29/100\n",
            "41/41 - 0s - loss: 0.4460 - accuracy: 0.1950 - val_loss: 0.4439 - val_accuracy: 0.1553\n",
            "Epoch 30/100\n",
            "41/41 - 0s - loss: 0.4420 - accuracy: 0.1950 - val_loss: 0.4400 - val_accuracy: 0.1553\n",
            "Epoch 31/100\n",
            "41/41 - 0s - loss: 0.4381 - accuracy: 0.1950 - val_loss: 0.4362 - val_accuracy: 0.1553\n",
            "Epoch 32/100\n",
            "41/41 - 0s - loss: 0.4344 - accuracy: 0.1950 - val_loss: 0.4326 - val_accuracy: 0.1553\n",
            "Epoch 33/100\n",
            "41/41 - 0s - loss: 0.4309 - accuracy: 0.1950 - val_loss: 0.4292 - val_accuracy: 0.1553\n",
            "Epoch 34/100\n",
            "41/41 - 0s - loss: 0.4276 - accuracy: 0.1950 - val_loss: 0.4260 - val_accuracy: 0.1553\n",
            "Epoch 35/100\n",
            "41/41 - 0s - loss: 0.4244 - accuracy: 0.1950 - val_loss: 0.4229 - val_accuracy: 0.1553\n",
            "Epoch 36/100\n",
            "41/41 - 0s - loss: 0.4214 - accuracy: 0.1950 - val_loss: 0.4199 - val_accuracy: 0.1553\n",
            "Epoch 37/100\n",
            "41/41 - 0s - loss: 0.4185 - accuracy: 0.1950 - val_loss: 0.4171 - val_accuracy: 0.1553\n",
            "Epoch 38/100\n",
            "41/41 - 0s - loss: 0.4158 - accuracy: 0.1950 - val_loss: 0.4145 - val_accuracy: 0.1553\n",
            "Epoch 39/100\n",
            "41/41 - 0s - loss: 0.4131 - accuracy: 0.1950 - val_loss: 0.4119 - val_accuracy: 0.1553\n",
            "Epoch 40/100\n",
            "41/41 - 0s - loss: 0.4107 - accuracy: 0.1950 - val_loss: 0.4095 - val_accuracy: 0.1553\n",
            "Epoch 41/100\n",
            "41/41 - 0s - loss: 0.4083 - accuracy: 0.1950 - val_loss: 0.4072 - val_accuracy: 0.1553\n",
            "Epoch 42/100\n",
            "41/41 - 0s - loss: 0.4060 - accuracy: 0.1950 - val_loss: 0.4050 - val_accuracy: 0.1553\n",
            "Epoch 43/100\n",
            "41/41 - 0s - loss: 0.4039 - accuracy: 0.1950 - val_loss: 0.4029 - val_accuracy: 0.1553\n",
            "Epoch 44/100\n",
            "41/41 - 0s - loss: 0.4019 - accuracy: 0.1950 - val_loss: 0.4010 - val_accuracy: 0.1553\n",
            "Epoch 45/100\n",
            "41/41 - 0s - loss: 0.3999 - accuracy: 0.1950 - val_loss: 0.3991 - val_accuracy: 0.1553\n",
            "Epoch 46/100\n",
            "41/41 - 0s - loss: 0.3981 - accuracy: 0.1950 - val_loss: 0.3973 - val_accuracy: 0.1553\n",
            "Epoch 47/100\n",
            "41/41 - 0s - loss: 0.3963 - accuracy: 0.1950 - val_loss: 0.3956 - val_accuracy: 0.1553\n",
            "Epoch 48/100\n",
            "41/41 - 0s - loss: 0.3946 - accuracy: 0.1950 - val_loss: 0.3939 - val_accuracy: 0.1553\n",
            "Epoch 49/100\n",
            "41/41 - 0s - loss: 0.3930 - accuracy: 0.1950 - val_loss: 0.3924 - val_accuracy: 0.1553\n",
            "Epoch 50/100\n",
            "41/41 - 0s - loss: 0.3915 - accuracy: 0.1950 - val_loss: 0.3909 - val_accuracy: 0.1553\n",
            "Epoch 51/100\n",
            "41/41 - 0s - loss: 0.3901 - accuracy: 0.1950 - val_loss: 0.3895 - val_accuracy: 0.1553\n",
            "Epoch 52/100\n",
            "41/41 - 0s - loss: 0.3887 - accuracy: 0.1950 - val_loss: 0.3881 - val_accuracy: 0.1553\n",
            "Epoch 53/100\n",
            "41/41 - 0s - loss: 0.3874 - accuracy: 0.1950 - val_loss: 0.3868 - val_accuracy: 0.1553\n",
            "Epoch 54/100\n",
            "41/41 - 0s - loss: 0.3861 - accuracy: 0.1950 - val_loss: 0.3856 - val_accuracy: 0.1553\n",
            "Epoch 55/100\n",
            "41/41 - 0s - loss: 0.3849 - accuracy: 0.1950 - val_loss: 0.3845 - val_accuracy: 0.1553\n",
            "Epoch 56/100\n",
            "41/41 - 0s - loss: 0.3838 - accuracy: 0.1950 - val_loss: 0.3834 - val_accuracy: 0.1553\n",
            "Epoch 57/100\n",
            "41/41 - 0s - loss: 0.3827 - accuracy: 0.1950 - val_loss: 0.3823 - val_accuracy: 0.1553\n",
            "Epoch 58/100\n",
            "41/41 - 0s - loss: 0.3816 - accuracy: 0.1950 - val_loss: 0.3813 - val_accuracy: 0.1553\n",
            "Epoch 59/100\n",
            "41/41 - 0s - loss: 0.3807 - accuracy: 0.1950 - val_loss: 0.3804 - val_accuracy: 0.1553\n",
            "Epoch 60/100\n",
            "41/41 - 0s - loss: 0.3797 - accuracy: 0.1950 - val_loss: 0.3794 - val_accuracy: 0.1553\n",
            "Epoch 61/100\n",
            "41/41 - 0s - loss: 0.3788 - accuracy: 0.1950 - val_loss: 0.3786 - val_accuracy: 0.1553\n",
            "Epoch 62/100\n",
            "41/41 - 0s - loss: 0.3780 - accuracy: 0.1950 - val_loss: 0.3777 - val_accuracy: 0.1553\n",
            "Epoch 63/100\n",
            "41/41 - 0s - loss: 0.3772 - accuracy: 0.1950 - val_loss: 0.3769 - val_accuracy: 0.1553\n",
            "Epoch 64/100\n",
            "41/41 - 0s - loss: 0.3764 - accuracy: 0.1950 - val_loss: 0.3762 - val_accuracy: 0.1553\n",
            "Epoch 65/100\n",
            "41/41 - 0s - loss: 0.3756 - accuracy: 0.1950 - val_loss: 0.3754 - val_accuracy: 0.1553\n",
            "Epoch 66/100\n",
            "41/41 - 0s - loss: 0.3749 - accuracy: 0.1950 - val_loss: 0.3748 - val_accuracy: 0.1553\n",
            "Epoch 67/100\n",
            "41/41 - 0s - loss: 0.3743 - accuracy: 0.1950 - val_loss: 0.3741 - val_accuracy: 0.1553\n",
            "Epoch 68/100\n",
            "41/41 - 0s - loss: 0.3736 - accuracy: 0.1950 - val_loss: 0.3735 - val_accuracy: 0.1553\n",
            "Epoch 69/100\n",
            "41/41 - 0s - loss: 0.3730 - accuracy: 0.1950 - val_loss: 0.3729 - val_accuracy: 0.1553\n",
            "Epoch 70/100\n",
            "41/41 - 0s - loss: 0.3724 - accuracy: 0.1950 - val_loss: 0.3723 - val_accuracy: 0.1553\n",
            "Epoch 71/100\n",
            "41/41 - 0s - loss: 0.3718 - accuracy: 0.1950 - val_loss: 0.3718 - val_accuracy: 0.1553\n",
            "Epoch 72/100\n",
            "41/41 - 0s - loss: 0.3713 - accuracy: 0.1950 - val_loss: 0.3712 - val_accuracy: 0.1553\n",
            "Epoch 73/100\n",
            "41/41 - 0s - loss: 0.3708 - accuracy: 0.1950 - val_loss: 0.3707 - val_accuracy: 0.1553\n",
            "Epoch 74/100\n",
            "41/41 - 0s - loss: 0.3703 - accuracy: 0.1950 - val_loss: 0.3702 - val_accuracy: 0.1553\n",
            "Epoch 75/100\n",
            "41/41 - 0s - loss: 0.3698 - accuracy: 0.1950 - val_loss: 0.3698 - val_accuracy: 0.1553\n",
            "Epoch 76/100\n",
            "41/41 - 0s - loss: 0.3694 - accuracy: 0.1950 - val_loss: 0.3693 - val_accuracy: 0.1553\n",
            "Epoch 77/100\n",
            "41/41 - 0s - loss: 0.3689 - accuracy: 0.1950 - val_loss: 0.3689 - val_accuracy: 0.1553\n",
            "Epoch 78/100\n",
            "41/41 - 0s - loss: 0.3685 - accuracy: 0.1950 - val_loss: 0.3685 - val_accuracy: 0.1553\n",
            "Epoch 79/100\n",
            "41/41 - 0s - loss: 0.3681 - accuracy: 0.1950 - val_loss: 0.3681 - val_accuracy: 0.1553\n",
            "Epoch 80/100\n",
            "41/41 - 0s - loss: 0.3677 - accuracy: 0.1950 - val_loss: 0.3678 - val_accuracy: 0.1553\n",
            "Epoch 81/100\n",
            "41/41 - 0s - loss: 0.3674 - accuracy: 0.1950 - val_loss: 0.3674 - val_accuracy: 0.1553\n",
            "Epoch 82/100\n",
            "41/41 - 0s - loss: 0.3670 - accuracy: 0.1950 - val_loss: 0.3670 - val_accuracy: 0.1553\n",
            "Epoch 83/100\n",
            "41/41 - 0s - loss: 0.3667 - accuracy: 0.1950 - val_loss: 0.3667 - val_accuracy: 0.1553\n",
            "Epoch 84/100\n",
            "41/41 - 0s - loss: 0.3663 - accuracy: 0.1950 - val_loss: 0.3664 - val_accuracy: 0.1553\n",
            "Epoch 85/100\n",
            "41/41 - 0s - loss: 0.3660 - accuracy: 0.1950 - val_loss: 0.3661 - val_accuracy: 0.1553\n",
            "Epoch 86/100\n",
            "41/41 - 0s - loss: 0.3657 - accuracy: 0.1950 - val_loss: 0.3658 - val_accuracy: 0.1553\n",
            "Epoch 87/100\n",
            "41/41 - 0s - loss: 0.3654 - accuracy: 0.1950 - val_loss: 0.3655 - val_accuracy: 0.1553\n",
            "Epoch 88/100\n",
            "41/41 - 0s - loss: 0.3652 - accuracy: 0.1950 - val_loss: 0.3652 - val_accuracy: 0.1553\n",
            "Epoch 89/100\n",
            "41/41 - 0s - loss: 0.3649 - accuracy: 0.1950 - val_loss: 0.3650 - val_accuracy: 0.1553\n",
            "Epoch 90/100\n",
            "41/41 - 0s - loss: 0.3646 - accuracy: 0.1950 - val_loss: 0.3647 - val_accuracy: 0.1553\n",
            "Epoch 91/100\n",
            "41/41 - 0s - loss: 0.3644 - accuracy: 0.1950 - val_loss: 0.3645 - val_accuracy: 0.1553\n",
            "Epoch 92/100\n",
            "41/41 - 0s - loss: 0.3641 - accuracy: 0.1950 - val_loss: 0.3642 - val_accuracy: 0.1553\n",
            "Epoch 93/100\n",
            "41/41 - 0s - loss: 0.3639 - accuracy: 0.1950 - val_loss: 0.3640 - val_accuracy: 0.1553\n",
            "Epoch 94/100\n",
            "41/41 - 0s - loss: 0.3637 - accuracy: 0.1950 - val_loss: 0.3638 - val_accuracy: 0.1553\n",
            "Epoch 95/100\n",
            "41/41 - 0s - loss: 0.3635 - accuracy: 0.1950 - val_loss: 0.3635 - val_accuracy: 0.1553\n",
            "Epoch 96/100\n",
            "41/41 - 0s - loss: 0.3632 - accuracy: 0.1950 - val_loss: 0.3633 - val_accuracy: 0.1553\n",
            "Epoch 97/100\n",
            "41/41 - 0s - loss: 0.3630 - accuracy: 0.1950 - val_loss: 0.3632 - val_accuracy: 0.1553\n",
            "Epoch 98/100\n",
            "41/41 - 0s - loss: 0.3629 - accuracy: 0.1950 - val_loss: 0.3630 - val_accuracy: 0.1553\n",
            "Epoch 99/100\n",
            "41/41 - 0s - loss: 0.3627 - accuracy: 0.1950 - val_loss: 0.3628 - val_accuracy: 0.1553\n",
            "Epoch 100/100\n",
            "41/41 - 0s - loss: 0.3625 - accuracy: 0.1950 - val_loss: 0.3626 - val_accuracy: 0.1553\n"
          ],
          "name": "stdout"
        },
        {
          "output_type": "execute_result",
          "data": {
            "text/plain": [
              "<tensorflow.python.keras.callbacks.History at 0x7f80feea0890>"
            ]
          },
          "metadata": {
            "tags": []
          },
          "execution_count": 68
        }
      ]
    }
  ]
}