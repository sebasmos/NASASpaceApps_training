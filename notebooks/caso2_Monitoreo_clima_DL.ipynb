{
  "cells": [
    {
      "cell_type": "markdown",
      "metadata": {
        "id": "q8xXOzSp4L7F"
      },
      "source": [
        "# Imágenes satelitales NASA SpaceApps training [@AESS Unicauca](https://www.facebook.com/aess.unicauca)\n",
        "\n",
        "\n",
        "<div>\n",
        "<img src=\"https://scontent.fppn1-1.fna.fbcdn.net/v/t39.30808-6/296685322_579745683865854_8669697208972745235_n.jpg?_nc_cat=104&ccb=1-7&_nc_sid=09cbfe&_nc_ohc=ik1-U666nBMAX-Ti4lm&_nc_oc=AQl7zqSsW1aWRJgr212b3jEe7EVZwKuo-NjdP14Ku67Wb02KMD2pW9Yp1SMn7wzpScs&_nc_ht=scontent.fppn1-1.fna&oh=00_AT_AmLQyPM-cV1DG3nITWRevSgS2lys7t-gNvSihmHJV1w&oe=633AB925\" width=\"700\" height = \"400\"/>\n",
        "</div>\n",
        "\n",
        "Ejemplo práctico con Tensorflow. \n",
        "\n",
        "Por [Sebastian Cajas Ordóñez](https://sebasmos.github.io/)  "
      ]
    },
    {
      "cell_type": "markdown",
      "metadata": {
        "id": "wIkqR7bF6pTh"
      },
      "source": [
        "## Outline\n",
        "1. [Deep Learning - Ejemplo práctico](#10)"
      ]
    },
    {
      "cell_type": "markdown",
      "metadata": {
        "id": "6Kp2RskqMglG"
      },
      "source": [
        "<a name='9'></a>\n",
        "# Practical example - Deep learning"
      ]
    },
    {
      "cell_type": "markdown",
      "source": [
        "Para instalación en entorno local\n",
        "\n",
        "# Requires the latest pip\n",
        "`!pip install --upgrade pip`\n",
        "\n",
        "# Current stable release for CPU and GPU\n",
        "`!pip install tensorflow`\n",
        "\n",
        "# Or try the preview build (unstable)\n",
        "`!pip install tf-nightly`\n"
      ],
      "metadata": {
        "id": "OMkyLnGauOGB"
      }
    },
    {
      "cell_type": "code",
      "execution_count": 4,
      "metadata": {
        "id": "ZuFr938SFKAU"
      },
      "outputs": [],
      "source": [
        "import tensorflow as tf\n",
        "from tensorflow import keras\n",
        "from tensorflow.keras import layers\n",
        "from tensorflow.keras.utils import to_categorical\n",
        "from tensorflow.keras.models import Sequential\n",
        "from tensorflow.keras.layers import Dense\n",
        "import pandas as pd\n",
        "from sklearn.preprocessing import LabelEncoder\n",
        "import numpy as np\n",
        "import seaborn as sns\n",
        "from sklearn.model_selection import train_test_split"
      ]
    },
    {
      "cell_type": "code",
      "source": [
        "df = pd.read_csv(\"weatherHistory.csv\")\n",
        "df.info()"
      ],
      "metadata": {
        "colab": {
          "base_uri": "https://localhost:8080/"
        },
        "id": "67T-Hxlcun6X",
        "outputId": "1bfa735d-ee8d-492f-d907-c263072fd72b"
      },
      "execution_count": 65,
      "outputs": [
        {
          "output_type": "stream",
          "name": "stdout",
          "text": [
            "<class 'pandas.core.frame.DataFrame'>\n",
            "RangeIndex: 96453 entries, 0 to 96452\n",
            "Data columns (total 12 columns):\n",
            " #   Column                    Non-Null Count  Dtype  \n",
            "---  ------                    --------------  -----  \n",
            " 0   Formatted Date            96453 non-null  object \n",
            " 1   Summary                   96453 non-null  object \n",
            " 2   Precip Type               95936 non-null  object \n",
            " 3   Temperature (C)           96453 non-null  float64\n",
            " 4   Apparent Temperature (C)  96453 non-null  float64\n",
            " 5   Humidity                  96453 non-null  float64\n",
            " 6   Wind Speed (km/h)         96453 non-null  float64\n",
            " 7   Wind Bearing (degrees)    96453 non-null  float64\n",
            " 8   Visibility (km)           96453 non-null  float64\n",
            " 9   Loud Cover                96453 non-null  float64\n",
            " 10  Pressure (millibars)      96453 non-null  float64\n",
            " 11  Daily Summary             96453 non-null  object \n",
            "dtypes: float64(8), object(4)\n",
            "memory usage: 8.8+ MB\n"
          ]
        }
      ]
    },
    {
      "cell_type": "code",
      "source": [
        "def process(df):\n",
        "  df['Precip Type'].fillna(method='ffill',inplace=True,axis=0)\n",
        "  df['Precip Type'].value_counts()\n",
        "  #with droping\n",
        "  df.drop('Precip Type',axis=1,inplace=True)\n",
        "  target_values=df['Summary'].value_counts().index\n",
        "  le=LabelEncoder()\n",
        "  df['Summary']=le.fit_transform(df['Summary'])\n",
        "  print(\"There are {} classes.\".format(len(np.unique(df[\"Summary\"]))))\n",
        "  y=df['Summary']\n",
        "  x=df[['Temperature (C)',\n",
        "        'Apparent Temperature (C)', 'Humidity', 'Wind Speed (km/h)',\n",
        "        'Wind Bearing (degrees)', 'Visibility (km)',\n",
        "        'Pressure (millibars)']]\n",
        "  x.drop('Apparent Temperature (C)',axis=1,inplace=True)\n",
        "  return x,y\n",
        "x,y = process(df)"
      ],
      "metadata": {
        "colab": {
          "base_uri": "https://localhost:8080/"
        },
        "id": "Y3GODcGwuuL1",
        "outputId": "177c591c-7852-4965-ae5e-2ae8d3a60211"
      },
      "execution_count": 66,
      "outputs": [
        {
          "output_type": "stream",
          "name": "stdout",
          "text": [
            "There are 27 classes.\n"
          ]
        },
        {
          "output_type": "stream",
          "name": "stderr",
          "text": [
            "/usr/local/lib/python3.7/dist-packages/pandas/core/frame.py:4913: SettingWithCopyWarning: \n",
            "A value is trying to be set on a copy of a slice from a DataFrame\n",
            "\n",
            "See the caveats in the documentation: https://pandas.pydata.org/pandas-docs/stable/user_guide/indexing.html#returning-a-view-versus-a-copy\n",
            "  errors=errors,\n"
          ]
        }
      ]
    },
    {
      "cell_type": "code",
      "execution_count": 67,
      "metadata": {
        "id": "wxtnci2PDErR"
      },
      "outputs": [],
      "source": [
        "n_classes = len(np.unique(y))\n",
        "\n",
        "labels_cat = to_categorical(y, num_classes=n_classes)"
      ]
    },
    {
      "cell_type": "code",
      "execution_count": 68,
      "metadata": {
        "colab": {
          "base_uri": "https://localhost:8080/"
        },
        "id": "VYJH8qWjHjVu",
        "outputId": "5664ad2a-29fa-4229-ec14-e156e7bcb0f2"
      },
      "outputs": [
        {
          "output_type": "stream",
          "name": "stdout",
          "text": [
            "Training instances   77162, Training features   6\n",
            "Testing instances    19291, Testing features    6\n",
            "Hot-encoded label:  (77162, 27)\n"
          ]
        }
      ],
      "source": [
        "x_train,x_test,y_train,y_test=train_test_split(x, labels_cat,test_size=0.2,random_state=1)\n",
        "\n",
        "print(\"Training instances   {}, Training features   {}\".format(x_train.shape[0], x_train.shape[1]))\n",
        "print(\"Testing instances    {}, Testing features    {}\".format(x_test.shape[0], x_test.shape[1]))\n",
        "print(\"Hot-encoded label: \", y_train.shape)"
      ]
    },
    {
      "cell_type": "code",
      "source": [
        "weights = compute_class_weight(\n",
        "                                        class_weight = \"balanced\",\n",
        "                                        classes = np.unique(np.ravel(y,order='C')),\n",
        "                                        y = np.ravel(y,order='C')                                                    \n",
        "                                    )"
      ],
      "metadata": {
        "id": "dw2e-5u6vdC3"
      },
      "execution_count": 15,
      "outputs": []
    },
    {
      "cell_type": "code",
      "execution_count": 81,
      "metadata": {
        "id": "3yd8tOfnEdyH"
      },
      "outputs": [],
      "source": [
        "def get_model_baseline(x,n_classes):\n",
        "  model_keras_seq = Sequential()\n",
        "  model_keras_seq.add(Dense(128, input_shape=(x.shape), activation='relu'))\n",
        "  model_keras_seq.add(Dense(64, activation='relu'))\n",
        "  model_keras_seq.add(Dense(n_classes, activation='sigmoid'))\n",
        "  return model_keras_seq"
      ]
    },
    {
      "cell_type": "code",
      "execution_count": 82,
      "metadata": {
        "colab": {
          "base_uri": "https://localhost:8080/"
        },
        "id": "7AVaJYiYEbC1",
        "outputId": "7548ac75-ec0a-4a7e-ad56-7735e3bb83ea"
      },
      "outputs": [
        {
          "output_type": "stream",
          "name": "stdout",
          "text": [
            "Model: \"sequential_9\"\n",
            "_________________________________________________________________\n",
            " Layer (type)                Output Shape              Param #   \n",
            "=================================================================\n",
            " dense_23 (Dense)            (None, 77162, 128)        896       \n",
            "                                                                 \n",
            " dense_24 (Dense)            (None, 77162, 64)         8256      \n",
            "                                                                 \n",
            " dense_25 (Dense)            (None, 77162, 27)         1755      \n",
            "                                                                 \n",
            "=================================================================\n",
            "Total params: 10,907\n",
            "Trainable params: 10,907\n",
            "Non-trainable params: 0\n",
            "_________________________________________________________________\n"
          ]
        }
      ],
      "source": [
        "model = get_model_baseline(x_train, n_classes)\n",
        "model.compile(optimizer='adam', loss='categorical_crossentropy', metrics=['acc'])\n",
        "model.summary()\n"
      ]
    },
    {
      "cell_type": "code",
      "execution_count": 83,
      "metadata": {
        "id": "sfTBvRuEKji1"
      },
      "outputs": [],
      "source": [
        "from keras.callbacks import ModelCheckpoint, EarlyStopping,TensorBoard\n",
        "\n",
        "earlystopper = EarlyStopping(monitor='val_acc',\n",
        "                             patience=50,\n",
        "                             mode='max',\n",
        "                             restore_best_weights=True)\n",
        "\n",
        "tensorboard = TensorBoard(log_dir='./logs', write_graph=True,\n",
        "                          write_images=True, update_freq='epoch')"
      ]
    },
    {
      "cell_type": "code",
      "source": [
        "y_train.shape"
      ],
      "metadata": {
        "colab": {
          "base_uri": "https://localhost:8080/"
        },
        "id": "HWat_6ZC0hdI",
        "outputId": "2baee3d2-f628-4926-f7a6-22f0ecc60812"
      },
      "execution_count": 86,
      "outputs": [
        {
          "output_type": "execute_result",
          "data": {
            "text/plain": [
              "(77162, 27)"
            ]
          },
          "metadata": {},
          "execution_count": 86
        }
      ]
    },
    {
      "cell_type": "code",
      "execution_count": null,
      "metadata": {
        "id": "UO_rYzDkFEPp"
      },
      "outputs": [],
      "source": [
        "example = model.fit(x_train, y_train, \n",
        "                    batch_size = 64, \n",
        "                    verbose=1, \n",
        "                    epochs=25, \n",
        "                    validation_split = 0.2,\n",
        "                    shuffle=False,\n",
        "                    #class_weight=weights,\n",
        "                    callbacks=[earlystopper, tensorboard])"
      ]
    },
    {
      "cell_type": "code",
      "execution_count": null,
      "metadata": {
        "id": "tcFpuIxlK_0h"
      },
      "outputs": [],
      "source": [
        "%load_ext tensorboard\n",
        "%tensorboard --logdir logs"
      ]
    },
    {
      "cell_type": "code",
      "execution_count": null,
      "metadata": {
        "id": "MkXAS4ORLKfW"
      },
      "outputs": [],
      "source": [
        "_, acc = model.evaluate(x_test, y_test)\n",
        "print(\"Accuracy is = \", (acc * 100.0), \"%\")"
      ]
    }
  ],
  "metadata": {
    "accelerator": "GPU",
    "colab": {
      "collapsed_sections": [
        "zWT4RXSW6s63",
        "_1bAUrVWJBQf",
        "45C4y_YmJa8z",
        "MKB5hkO3KpEk",
        "F_Snmr8lK9zf",
        "0VVFCh1vOGc9",
        "uZtq-PrPOlK5",
        "g4DxaCQyQ67o",
        "jYS2JA42URxm"
      ],
      "provenance": []
    },
    "kernelspec": {
      "display_name": "sebasmos",
      "language": "python",
      "name": "sebasmos"
    },
    "language_info": {
      "codemirror_mode": {
        "name": "ipython",
        "version": 3
      },
      "file_extension": ".py",
      "mimetype": "text/x-python",
      "name": "python",
      "nbconvert_exporter": "python",
      "pygments_lexer": "ipython3",
      "version": "3.9.7"
    },
    "vscode": {
      "interpreter": {
        "hash": "916dbcbb3f70747c44a77c7bcd40155683ae19c65e1c03b4aa3499c5328201f1"
      }
    }
  },
  "nbformat": 4,
  "nbformat_minor": 0
}